{
  "nbformat": 4,
  "nbformat_minor": 0,
  "metadata": {
    "colab": {
      "name": "TextProcessing.ipynb",
      "provenance": [],
      "authorship_tag": "ABX9TyOU8tPiidpl4a4s6d2BdpoV",
      "include_colab_link": true
    },
    "kernelspec": {
      "name": "python3",
      "display_name": "Python 3"
    },
    "language_info": {
      "name": "python"
    }
  },
  "cells": [
    {
      "cell_type": "markdown",
      "metadata": {
        "id": "view-in-github",
        "colab_type": "text"
      },
      "source": [
        "<a href=\"https://colab.research.google.com/github/philipjpark/Summer_22_Data_Analytics_HW3/blob/main/TextProcessing.ipynb\" target=\"_parent\"><img src=\"https://colab.research.google.com/assets/colab-badge.svg\" alt=\"Open In Colab\"/></a>"
      ]
    },
    {
      "cell_type": "markdown",
      "source": [
        "#Text Processing#\n",
        "\n",
        "\"555-1239Dr. Bernard Lander(636) 555-0113Hollingdorp, Donnatella555-6542Fitzgerald, F. Sco\\\n",
        "tt555 8904Rev. Martin Luther King636-555-3226Snodgrass, Theodore5553642Carlamina Scarfoni\"\n",
        "\n",
        "1. Extract the numbers\n",
        "\n",
        "2. Extract the names\n",
        "\n",
        "3. Rearrange the vector so that all elements conform to the standard “firstname lastname”, preserving any titles (e.g., “Rev.”, “Dr.”, etc) or middle/second names.\n",
        "\n",
        "4. Construct a logical vector indicating whether a character has a title (i.e., Rev. and Dr.)\n",
        "\n",
        "5. Construct a logical vector indicating whether a character has a middle/second name.\n",
        "\n",
        "6. Consider the HTML string  <title +++BREAKING NEWS+++ title>. We would like to extract the first HTML tag (i.e., “<title”). To do so we write the regular expression “<.+>”. Explain why this fails and correct the expression. \n",
        "\n"
      ],
      "metadata": {
        "id": "kGXW8eoBskiy"
      }
    },
    {
      "cell_type": "markdown",
      "source": [
        "**Question #1**"
      ],
      "metadata": {
        "id": "jr5ie17woFPb"
      }
    },
    {
      "cell_type": "code",
      "source": [
        "import pandas as pd\n",
        "import numpy as np\n",
        "import re\n",
        "\n",
        "info = \"555-1239Dr. Bernard Lander(636) 555-0113Hollingdorp,Donnatella555-6542Fitzgerald, F. Scott555 8904Rev. Martin Luther King636-555-3226Snodgrass, Theodore5553642Carlamina Scarfoni\"\n",
        "numbers = re.findall('[0-9]+', info)\n",
        "print(\"This is the solution for question #1:\", numbers)"
      ],
      "metadata": {
        "colab": {
          "base_uri": "https://localhost:8080/"
        },
        "id": "xZG5hgrls8oB",
        "outputId": "4aba652b-72b9-4402-8773-dcd681daa910"
      },
      "execution_count": 29,
      "outputs": [
        {
          "output_type": "stream",
          "name": "stdout",
          "text": [
            "This is the solution for question #1: ['555', '1239', '636', '555', '0113', '555', '6542', '555', '8904', '636', '555', '3226', '5553642']\n"
          ]
        }
      ]
    },
    {
      "cell_type": "markdown",
      "source": [
        "**Question #2:** \n",
        "\n",
        "I used a resource to catch special cases. I was having a hard time with cases in which there was a middle initial. I can't catch Hollingdorp, Donatella. I will work on fixing this case. \n",
        "\n",
        "**Resource:** https://stackoverflow.com/questions/55194224/extract-names-from-string-with-python-regex"
      ],
      "metadata": {
        "id": "IDXD8KLHvRWU"
      }
    },
    {
      "cell_type": "code",
      "source": [
        "\n",
        "onlyNames = re.findall(r\"[A-Z][a-z]+,?\\s+(?:[A-Z][a-z]*\\.?\\s*)?[A-Z][a-z]+\", info)\n",
        "onlyNames\n"
      ],
      "metadata": {
        "colab": {
          "base_uri": "https://localhost:8080/"
        },
        "id": "wtn3yZ-XuvDd",
        "outputId": "96b8477a-9f7a-467f-875f-a98f14df41fa"
      },
      "execution_count": 67,
      "outputs": [
        {
          "output_type": "execute_result",
          "data": {
            "text/plain": [
              "['Bernard Lander',\n",
              " 'Fitzgerald, F. Scott',\n",
              " 'Martin Luther King',\n",
              " 'Snodgrass, Theodore',\n",
              " 'Carlamina Scarfoni']"
            ]
          },
          "metadata": {},
          "execution_count": 67
        }
      ]
    },
    {
      "cell_type": "markdown",
      "source": [
        "**Question #3**\n",
        "\n",
        "This challenge question was quite difficult and thus I needed to use a resource to help distinguish the property of what would constitute a first name, as opposed to a last name.\n",
        "\n",
        "**Resources:** https://stackoverflow.com/questions/72588939/rearrange-all-elements-conform-to-the-standard-firstname-lastname-preserving\n"
      ],
      "metadata": {
        "id": "Gr3-xr-b1VCQ"
      }
    },
    {
      "cell_type": "code",
      "source": [
        "ROLE = r\"(?:[A-Z][a-z]*\\.\\s*)?\"\n",
        "FNAME = r\"[A-Z][a-z]+,?\\s+\"\n",
        "MID_I = r\"(?:[A-Z][a-z]*\\.?\\s*)?\"\n",
        "LNAME = r\"[A-Z][a-z]+\"\n",
        "\n",
        "unorderedNames = re.findall(ROLE + FNAME + MID_I + LNAME, info)\n",
        "\n",
        "firstLast =[]\n",
        "for u in unorderedNames:\n",
        "    if (\",\" in u):\n",
        "        l, f = u.split(\",\")\n",
        "        m = \"\"\n",
        "        \n",
        "        if (\".\" in f):\n",
        "            m, reassign= f.split(\".\")\n",
        "            m+= \".\"\n",
        "        else:\n",
        "            reassign = f\n",
        "        firstLast.append(reassign + \"\" + m + \" \" + l)\n",
        "    else:\n",
        "        firstLast.append(u)\n",
        "        \n",
        "print(firstLast)"
      ],
      "metadata": {
        "colab": {
          "base_uri": "https://localhost:8080/"
        },
        "id": "yio1pmw8wF51",
        "outputId": "58c41ec0-1ff4-4cff-da00-af47ca798704"
      },
      "execution_count": 38,
      "outputs": [
        {
          "output_type": "stream",
          "name": "stdout",
          "text": [
            "['Dr. Bernard Lander', ' Scott F. Fitzgerald', 'Rev. Martin Luther King', ' Theodore Snodgrass', 'Carlamina Scarfoni']\n"
          ]
        }
      ]
    },
    {
      "cell_type": "markdown",
      "source": [
        "**Question 4**\n",
        "\n",
        "The filter method and compile method is a streamlined way of returning the elements of the list that included Dr. or Rev."
      ],
      "metadata": {
        "id": "bCN3AWzwNdnH"
      }
    },
    {
      "cell_type": "code",
      "source": [
        "revOrDr = re.compile('Rev.|Dr.')\n",
        "(list(filter(revOrDr.match, firstLast)))\n"
      ],
      "metadata": {
        "colab": {
          "base_uri": "https://localhost:8080/"
        },
        "id": "DoSeR1RbNhkd",
        "outputId": "81c8084a-639a-45e4-cfa8-68100d83fe6f"
      },
      "execution_count": 37,
      "outputs": [
        {
          "output_type": "execute_result",
          "data": {
            "text/plain": [
              "['Dr. Bernard Lander', 'Rev. Martin Luther King']"
            ]
          },
          "metadata": {},
          "execution_count": 37
        }
      ]
    },
    {
      "cell_type": "markdown",
      "source": [
        "**Question 5**\n",
        "\n",
        "I was able to remove the titles and replace them with \"\" to remove the whitespace. I am still working on being able to extract the people with middle names; then return a boolean through the list to output who has a middle name and who does not. The output of Carlamina Scarfoni is wrong. "
      ],
      "metadata": {
        "id": "ZHwYh4rBSU3f"
      }
    },
    {
      "cell_type": "code",
      "source": [
        "\n",
        "noTitle = [re.sub('Rev.|Dr.', \"\",i) for i in firstLast]\n",
        "midYes = re.compile(\"[A-Z][a-z]+,?\\s+\" and \" \" and  \"[A-Z][a-z]+,?\\s+\" and \" \" and \"[A-Z][a-z]+,?\\s+\")\n",
        "(list(filter(midYes.match, firstLast)))"
      ],
      "metadata": {
        "colab": {
          "base_uri": "https://localhost:8080/"
        },
        "id": "mf4QcJOpSZGW",
        "outputId": "a6078494-1dee-4a65-a708-f8bf91012604"
      },
      "execution_count": 96,
      "outputs": [
        {
          "output_type": "execute_result",
          "data": {
            "text/plain": [
              "['Carlamina Scarfoni']"
            ]
          },
          "metadata": {},
          "execution_count": 96
        }
      ]
    },
    {
      "cell_type": "markdown",
      "source": [
        "**Question 6**\n",
        "\n",
        "The reason the code for removeBefore prints out both title tags is because without a question mark, it will output all occurrences of said string. The question mark outputs the occurrence once or none times. "
      ],
      "metadata": {
        "id": "VcqdptVBh0Ef"
      }
    },
    {
      "cell_type": "code",
      "source": [
        "html_string =  \"<title>+++BREAKING NEWS+++<title>\"\n",
        "removeBefore = re.search('<.+>', html_string)\n",
        "print(removeBefore)\n",
        "\n",
        "remove = re.search('<.+?>', html_string)\n",
        "print(remove)"
      ],
      "metadata": {
        "colab": {
          "base_uri": "https://localhost:8080/"
        },
        "id": "s6oriiElhzTu",
        "outputId": "9e1ea7e6-bc51-45cd-b47d-4d217c1ed92c"
      },
      "execution_count": 102,
      "outputs": [
        {
          "output_type": "stream",
          "name": "stdout",
          "text": [
            "<re.Match object; span=(0, 33), match='<title>+++BREAKING NEWS+++<title>'>\n",
            "<re.Match object; span=(0, 7), match='<title>'>\n"
          ]
        }
      ]
    },
    {
      "cell_type": "markdown",
      "source": [
        "**Question #7**\n",
        "\n",
        "Consider the string “(5-3)^2=5^2-2*5*3+3^2”. We would like to extract the equation in its entirety from the string. To do so we write the regular expression “[^0-9=+*()]+”. Explain why this fails and correct the expression.\n",
        "\n",
        "**Solution**\n",
        "\n",
        "The code was not running because the parenthesis is being \"raised\" in this case, and so the specific case for this equation is the exponent is concatenating the outer parenthesis. The '-' is a catch-all for the character class.\n",
        "\n",
        "**Resource:**\n",
        "https://rpubs.com/mganiyu/IS607_Week_4"
      ],
      "metadata": {
        "id": "eLtc3G7Mn_6D"
      }
    },
    {
      "cell_type": "code",
      "source": [
        "equation = '(5-3)^2=5^2-253+3^2'\n",
        "extract = re.search('[^0-9=+*()]+', equation)\n",
        "\n",
        "correctExtraction = re.search('[0-9=+*()^-]+', equation)\n",
        "\n",
        "print(correctExtraction)"
      ],
      "metadata": {
        "colab": {
          "base_uri": "https://localhost:8080/"
        },
        "id": "iLny0zLFl84b",
        "outputId": "0f32b44e-9753-471d-a0e1-aaeea204de49"
      },
      "execution_count": 105,
      "outputs": [
        {
          "output_type": "stream",
          "name": "stdout",
          "text": [
            "<re.Match object; span=(0, 19), match='(5-3)^2=5^2-253+3^2'>\n"
          ]
        }
      ]
    }
  ]
}